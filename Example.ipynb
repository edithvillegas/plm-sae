{
 "cells": [
  {
   "cell_type": "code",
   "execution_count": 3,
   "id": "59706ccd-a11e-4d4e-8bab-3011faa03248",
   "metadata": {},
   "outputs": [
    {
     "name": "stdout",
     "output_type": "stream",
     "text": [
      "Loss not defined in config, using default l1 loss\n"
     ]
    }
   ],
   "source": [
    "from transformers import AutoTokenizer, AutoModelForMaskedLM, AutoConfig\n",
    "from sae.SAE_methods import AutoEncoder #import sparse autoencoder from local definition\n",
    "\n",
    "#load ESM2 model\n",
    "tokenizer = AutoTokenizer.from_pretrained(\"facebook/esm2_t6_8M_UR50D\")\n",
    "model = AutoModelForMaskedLM.from_pretrained(\"facebook/esm2_t6_8M_UR50D\")\n",
    "model = model.to(\"cuda\")\n",
    "\n",
    "#load SAE (GPU-only)\n",
    "sparse_autoencoder = AutoEncoder.from_pretrained(\"evillegasgarcia/sae_esm2_6_l3\")"
   ]
  },
  {
   "cell_type": "code",
   "execution_count": 4,
   "id": "9f9c3a3a-88e8-4f1b-89f5-355ea4dfd7da",
   "metadata": {},
   "outputs": [
    {
     "name": "stderr",
     "output_type": "stream",
     "text": [
      "/u/area/evillegas/.local/lib/python3.10/site-packages/huggingface_hub/file_download.py:1132: FutureWarning: `resume_download` is deprecated and will be removed in version 1.0.0. Downloads always resume when possible. If you want to force a new download, use `force_download=True`.\n",
      "  warnings.warn(\n"
     ]
    },
    {
     "data": {
      "text/plain": [
       "EsmConfig {\n",
       "  \"_name_or_path\": \"facebook/esm2_t6_8M_UR50D\",\n",
       "  \"architectures\": [\n",
       "    \"EsmForMaskedLM\"\n",
       "  ],\n",
       "  \"attention_probs_dropout_prob\": 0.0,\n",
       "  \"classifier_dropout\": null,\n",
       "  \"emb_layer_norm_before\": false,\n",
       "  \"esmfold_config\": null,\n",
       "  \"hidden_act\": \"gelu\",\n",
       "  \"hidden_dropout_prob\": 0.0,\n",
       "  \"hidden_size\": 320,\n",
       "  \"initializer_range\": 0.02,\n",
       "  \"intermediate_size\": 1280,\n",
       "  \"is_folding_model\": false,\n",
       "  \"layer_norm_eps\": 1e-05,\n",
       "  \"mask_token_id\": 32,\n",
       "  \"max_position_embeddings\": 1026,\n",
       "  \"model_type\": \"esm\",\n",
       "  \"num_attention_heads\": 20,\n",
       "  \"num_hidden_layers\": 6,\n",
       "  \"pad_token_id\": 1,\n",
       "  \"position_embedding_type\": \"rotary\",\n",
       "  \"token_dropout\": true,\n",
       "  \"torch_dtype\": \"float32\",\n",
       "  \"transformers_version\": \"4.41.2\",\n",
       "  \"use_cache\": true,\n",
       "  \"vocab_list\": null,\n",
       "  \"vocab_size\": 33\n",
       "}"
      ]
     },
     "execution_count": 4,
     "metadata": {},
     "output_type": "execute_result"
    }
   ],
   "source": [
    "config = AutoConfig.from_pretrained(\"facebook/esm2_t6_8M_UR50D\")\n",
    "config"
   ]
  },
  {
   "cell_type": "code",
   "execution_count": null,
   "id": "db75dd28-4b4f-4def-afa6-0b10e42d3e5a",
   "metadata": {},
   "outputs": [],
   "source": [
    "#setup to extract ESM2 embeddings\n",
    "layer_name = \"esm.encoder.layer.3.output\"\n",
    "#define hook\n",
    "intermediate_embs = dict()\n",
    "def hook(module, input, output):\n",
    "    intermediate_embs[layer_name] = output\n",
    "return hook\n",
    "#attach hook\n",
    "hook_handle = model.esm.encoder.layer[3].output.register_forward_hook(l3_hook)"
   ]
  },
  {
   "cell_type": "code",
   "execution_count": 51,
   "id": "423e69a4-75c6-43eb-98b6-ed4f097b6f56",
   "metadata": {},
   "outputs": [],
   "source": [
    "#Inference\n",
    "sequence = \"MALWMRLLPLLALLALWGPDPAAAFVNQHLCGSHLVEALYLVCGERGFFYTPKTRREAEDLQVGQVELGGGPGAGSLQPL\"\n",
    "\n",
    "#PLM Inference\n",
    "tokenized = tokenizer.encode(sequence, return_tensors=\"pt\")\n",
    "tokenized = tokenized.to(\"cuda\")\n",
    "outputs = model(tokenized)\n",
    "embeddings = intermediate_embs[layer_name][0]\n",
    "\n",
    "#SAE Inference\n",
    "_, _, sae_embeddings, _, _ = sparse_autoencoder(embeddings)"
   ]
  },
  {
   "cell_type": "code",
   "execution_count": 52,
   "id": "9e06c22c-3eaa-4b4b-9900-de96c0bfa7e5",
   "metadata": {},
   "outputs": [
    {
     "data": {
      "text/plain": [
       "<matplotlib.image.AxesImage at 0x7f4caeedadd0>"
      ]
     },
     "execution_count": 52,
     "metadata": {},
     "output_type": "execute_result"
    },
    {
     "data": {
      "image/png": "[encoded data removed]",
      "text/plain": [
       "<Figure size 640x480 with 1 Axes>"
      ]
     },
     "metadata": {},
     "output_type": "display_data"
    }
   ],
   "source": [
    "import matplotlib.pyplot as plt\n",
    "plt.imshow(mid_acts.detach().cpu().numpy()[0:200,0:200])"
   ]
  },
  {
   "cell_type": "code",
   "execution_count": null,
   "id": "902b22d8-ff26-4b1e-a65b-027fbab63499",
   "metadata": {},
   "outputs": [],
   "source": [
    "hook_handle.remove()"
   ]
  }
 ],
 "metadata": {
  "kernelspec": {
   "display_name": "Python 3 (ipykernel)",
   "language": "python",
   "name": "python3"
  },
  "language_info": {
   "codemirror_mode": {
    "name": "ipython",
    "version": 3
   },
   "file_extension": ".py",
   "mimetype": "text/x-python",
   "name": "python",
   "nbconvert_exporter": "python",
   "pygments_lexer": "ipython3",
   "version": "3.10.13"
  }
 },
 "nbformat": 4,
 "nbformat_minor": 5
}
